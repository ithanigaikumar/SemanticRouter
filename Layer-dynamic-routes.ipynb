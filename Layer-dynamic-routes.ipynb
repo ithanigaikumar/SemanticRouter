{
  "cells": [
    {
      "cell_type": "markdown",
      "metadata": {
        "id": "UxqB7_Ieur0s"
      },
      "source": [
        "[![Open In Colab](https://colab.research.google.com/assets/colab-badge.svg)](https://colab.research.google.com/github/aurelio-labs/semantic-router/blob/main/docs/02-dynamic-routes.ipynb) [![Open nbviewer](https://raw.githubusercontent.com/pinecone-io/examples/master/assets/nbviewer-shield.svg)](https://nbviewer.org/github/aurelio-labs/semantic-router/blob/main/docs/02-dynamic-routes.ipynb)"
      ]
    },
    {
      "cell_type": "markdown",
      "metadata": {
        "id": "EduhQaNAur0u"
      },
      "source": [
        "# Dynamic Routes"
      ]
    },
    {
      "cell_type": "markdown",
      "metadata": {
        "id": "_4JgNeX4ur0v"
      },
      "source": [
        "In semantic-router there are two types of routes that can be chosen. Both routes belong to the `Route` object, the only difference between them is that _static_ routes return a `Route.name` when chosen, whereas _dynamic_ routes use an LLM call to produce parameter input values.\n",
        "\n",
        "For example, a _static_ route will tell us if a query is talking about mathematics by returning the route name (which could be `\"math\"` for example). A _dynamic_ route can generate additional values, so it may decide a query is talking about maths, but it can also generate Python code that we can later execute to answer the user's query, this output may look like `\"math\", \"import math; output = math.sqrt(64)`.\n",
        "\n",
        "***⚠️ Note: We have a fully local version of dynamic routes available at [docs/05-local-execution.ipynb](https://github.com/aurelio-labs/semantic-router/blob/main/docs/05-local-execution.ipynb). The local 05 version tends to outperform the OpenAI version we demo in this notebook, so we'd recommend trying [05](https://github.com/aurelio-labs/semantic-router/blob/main/docs/05-local-execution.ipynb)!***"
      ]
    },
    {
      "cell_type": "markdown",
      "metadata": {
        "id": "bbmw8CO4ur0v"
      },
      "source": [
        "## Installing the Library"
      ]
    },
    {
      "cell_type": "code",
      "execution_count": 1,
      "metadata": {
        "id": "dLElfRhgur0v"
      },
      "outputs": [
        {
          "name": "stderr",
          "output_type": "stream",
          "text": [
            "\n",
            "[notice] A new release of pip is available: 23.1.2 -> 24.0\n",
            "[notice] To update, run: C:\\Users\\indir\\AppData\\Local\\Microsoft\\WindowsApps\\PythonSoftwareFoundation.Python.3.10_qbz5n2kfra8p0\\python.exe -m pip install --upgrade pip\n"
          ]
        },
        {
          "name": "stdout",
          "output_type": "stream",
          "text": [
            "Requirement already satisfied: unifyai in c:\\users\\indir\\appdata\\local\\packages\\pythonsoftwarefoundation.python.3.10_qbz5n2kfra8p0\\localcache\\local-packages\\python310\\site-packages (0.8.1)\n",
            "Requirement already satisfied: openai<2.0.0,>=1.12.0 in c:\\users\\indir\\appdata\\local\\packages\\pythonsoftwarefoundation.python.3.10_qbz5n2kfra8p0\\localcache\\local-packages\\python310\\site-packages (from unifyai) (1.20.0)\n",
            "Requirement already satisfied: requests<3.0.0,>=2.31.0 in c:\\users\\indir\\appdata\\local\\packages\\pythonsoftwarefoundation.python.3.10_qbz5n2kfra8p0\\localcache\\local-packages\\python310\\site-packages (from unifyai) (2.31.0)\n",
            "Requirement already satisfied: anyio<5,>=3.5.0 in c:\\users\\indir\\appdata\\local\\packages\\pythonsoftwarefoundation.python.3.10_qbz5n2kfra8p0\\localcache\\local-packages\\python310\\site-packages (from openai<2.0.0,>=1.12.0->unifyai) (4.3.0)\n",
            "Requirement already satisfied: distro<2,>=1.7.0 in c:\\users\\indir\\appdata\\local\\packages\\pythonsoftwarefoundation.python.3.10_qbz5n2kfra8p0\\localcache\\local-packages\\python310\\site-packages (from openai<2.0.0,>=1.12.0->unifyai) (1.9.0)\n",
            "Requirement already satisfied: httpx<1,>=0.23.0 in c:\\users\\indir\\appdata\\local\\packages\\pythonsoftwarefoundation.python.3.10_qbz5n2kfra8p0\\localcache\\local-packages\\python310\\site-packages (from openai<2.0.0,>=1.12.0->unifyai) (0.27.0)\n",
            "Requirement already satisfied: pydantic<3,>=1.9.0 in c:\\users\\indir\\appdata\\local\\packages\\pythonsoftwarefoundation.python.3.10_qbz5n2kfra8p0\\localcache\\local-packages\\python310\\site-packages (from openai<2.0.0,>=1.12.0->unifyai) (2.7.0)\n",
            "Requirement already satisfied: sniffio in c:\\users\\indir\\appdata\\local\\packages\\pythonsoftwarefoundation.python.3.10_qbz5n2kfra8p0\\localcache\\local-packages\\python310\\site-packages (from openai<2.0.0,>=1.12.0->unifyai) (1.3.1)\n",
            "Requirement already satisfied: tqdm>4 in c:\\users\\indir\\appdata\\local\\packages\\pythonsoftwarefoundation.python.3.10_qbz5n2kfra8p0\\localcache\\local-packages\\python310\\site-packages (from openai<2.0.0,>=1.12.0->unifyai) (4.66.2)\n",
            "Requirement already satisfied: typing-extensions<5,>=4.7 in c:\\users\\indir\\appdata\\local\\packages\\pythonsoftwarefoundation.python.3.10_qbz5n2kfra8p0\\localcache\\local-packages\\python310\\site-packages (from openai<2.0.0,>=1.12.0->unifyai) (4.11.0)\n",
            "Requirement already satisfied: charset-normalizer<4,>=2 in c:\\users\\indir\\appdata\\local\\packages\\pythonsoftwarefoundation.python.3.10_qbz5n2kfra8p0\\localcache\\local-packages\\python310\\site-packages (from requests<3.0.0,>=2.31.0->unifyai) (3.2.0)\n",
            "Requirement already satisfied: idna<4,>=2.5 in c:\\users\\indir\\appdata\\local\\packages\\pythonsoftwarefoundation.python.3.10_qbz5n2kfra8p0\\localcache\\local-packages\\python310\\site-packages (from requests<3.0.0,>=2.31.0->unifyai) (3.4)\n",
            "Requirement already satisfied: urllib3<3,>=1.21.1 in c:\\users\\indir\\appdata\\local\\packages\\pythonsoftwarefoundation.python.3.10_qbz5n2kfra8p0\\localcache\\local-packages\\python310\\site-packages (from requests<3.0.0,>=2.31.0->unifyai) (2.0.3)\n",
            "Requirement already satisfied: certifi>=2017.4.17 in c:\\users\\indir\\appdata\\local\\packages\\pythonsoftwarefoundation.python.3.10_qbz5n2kfra8p0\\localcache\\local-packages\\python310\\site-packages (from requests<3.0.0,>=2.31.0->unifyai) (2023.5.7)\n",
            "Requirement already satisfied: exceptiongroup>=1.0.2 in c:\\users\\indir\\appdata\\local\\packages\\pythonsoftwarefoundation.python.3.10_qbz5n2kfra8p0\\localcache\\local-packages\\python310\\site-packages (from anyio<5,>=3.5.0->openai<2.0.0,>=1.12.0->unifyai) (1.2.0)\n",
            "Requirement already satisfied: httpcore==1.* in c:\\users\\indir\\appdata\\local\\packages\\pythonsoftwarefoundation.python.3.10_qbz5n2kfra8p0\\localcache\\local-packages\\python310\\site-packages (from httpx<1,>=0.23.0->openai<2.0.0,>=1.12.0->unifyai) (1.0.5)\n",
            "Requirement already satisfied: h11<0.15,>=0.13 in c:\\users\\indir\\appdata\\local\\packages\\pythonsoftwarefoundation.python.3.10_qbz5n2kfra8p0\\localcache\\local-packages\\python310\\site-packages (from httpcore==1.*->httpx<1,>=0.23.0->openai<2.0.0,>=1.12.0->unifyai) (0.14.0)\n",
            "Requirement already satisfied: annotated-types>=0.4.0 in c:\\users\\indir\\appdata\\local\\packages\\pythonsoftwarefoundation.python.3.10_qbz5n2kfra8p0\\localcache\\local-packages\\python310\\site-packages (from pydantic<3,>=1.9.0->openai<2.0.0,>=1.12.0->unifyai) (0.6.0)\n",
            "Requirement already satisfied: pydantic-core==2.18.1 in c:\\users\\indir\\appdata\\local\\packages\\pythonsoftwarefoundation.python.3.10_qbz5n2kfra8p0\\localcache\\local-packages\\python310\\site-packages (from pydantic<3,>=1.9.0->openai<2.0.0,>=1.12.0->unifyai) (2.18.1)\n",
            "Requirement already satisfied: colorama in c:\\users\\indir\\appdata\\local\\packages\\pythonsoftwarefoundation.python.3.10_qbz5n2kfra8p0\\localcache\\local-packages\\python310\\site-packages (from tqdm>4->openai<2.0.0,>=1.12.0->unifyai) (0.4.6)\n"
          ]
        },
        {
          "name": "stderr",
          "output_type": "stream",
          "text": [
            "\n",
            "[notice] A new release of pip is available: 23.1.2 -> 24.0\n",
            "[notice] To update, run: C:\\Users\\indir\\AppData\\Local\\Microsoft\\WindowsApps\\PythonSoftwareFoundation.Python.3.10_qbz5n2kfra8p0\\python.exe -m pip install --upgrade pip\n"
          ]
        },
        {
          "name": "stdout",
          "output_type": "stream",
          "text": [
            "Requirement already satisfied: openai in c:\\users\\indir\\appdata\\local\\packages\\pythonsoftwarefoundation.python.3.10_qbz5n2kfra8p0\\localcache\\local-packages\\python310\\site-packages (1.20.0)\n",
            "Requirement already satisfied: anyio<5,>=3.5.0 in c:\\users\\indir\\appdata\\local\\packages\\pythonsoftwarefoundation.python.3.10_qbz5n2kfra8p0\\localcache\\local-packages\\python310\\site-packages (from openai) (4.3.0)\n",
            "Requirement already satisfied: distro<2,>=1.7.0 in c:\\users\\indir\\appdata\\local\\packages\\pythonsoftwarefoundation.python.3.10_qbz5n2kfra8p0\\localcache\\local-packages\\python310\\site-packages (from openai) (1.9.0)\n",
            "Requirement already satisfied: httpx<1,>=0.23.0 in c:\\users\\indir\\appdata\\local\\packages\\pythonsoftwarefoundation.python.3.10_qbz5n2kfra8p0\\localcache\\local-packages\\python310\\site-packages (from openai) (0.27.0)\n",
            "Requirement already satisfied: pydantic<3,>=1.9.0 in c:\\users\\indir\\appdata\\local\\packages\\pythonsoftwarefoundation.python.3.10_qbz5n2kfra8p0\\localcache\\local-packages\\python310\\site-packages (from openai) (2.7.0)\n",
            "Requirement already satisfied: sniffio in c:\\users\\indir\\appdata\\local\\packages\\pythonsoftwarefoundation.python.3.10_qbz5n2kfra8p0\\localcache\\local-packages\\python310\\site-packages (from openai) (1.3.1)\n",
            "Requirement already satisfied: tqdm>4 in c:\\users\\indir\\appdata\\local\\packages\\pythonsoftwarefoundation.python.3.10_qbz5n2kfra8p0\\localcache\\local-packages\\python310\\site-packages (from openai) (4.66.2)\n",
            "Requirement already satisfied: typing-extensions<5,>=4.7 in c:\\users\\indir\\appdata\\local\\packages\\pythonsoftwarefoundation.python.3.10_qbz5n2kfra8p0\\localcache\\local-packages\\python310\\site-packages (from openai) (4.11.0)\n",
            "Requirement already satisfied: idna>=2.8 in c:\\users\\indir\\appdata\\local\\packages\\pythonsoftwarefoundation.python.3.10_qbz5n2kfra8p0\\localcache\\local-packages\\python310\\site-packages (from anyio<5,>=3.5.0->openai) (3.4)\n",
            "Requirement already satisfied: exceptiongroup>=1.0.2 in c:\\users\\indir\\appdata\\local\\packages\\pythonsoftwarefoundation.python.3.10_qbz5n2kfra8p0\\localcache\\local-packages\\python310\\site-packages (from anyio<5,>=3.5.0->openai) (1.2.0)\n",
            "Requirement already satisfied: certifi in c:\\users\\indir\\appdata\\local\\packages\\pythonsoftwarefoundation.python.3.10_qbz5n2kfra8p0\\localcache\\local-packages\\python310\\site-packages (from httpx<1,>=0.23.0->openai) (2023.5.7)\n",
            "Requirement already satisfied: httpcore==1.* in c:\\users\\indir\\appdata\\local\\packages\\pythonsoftwarefoundation.python.3.10_qbz5n2kfra8p0\\localcache\\local-packages\\python310\\site-packages (from httpx<1,>=0.23.0->openai) (1.0.5)\n",
            "Requirement already satisfied: h11<0.15,>=0.13 in c:\\users\\indir\\appdata\\local\\packages\\pythonsoftwarefoundation.python.3.10_qbz5n2kfra8p0\\localcache\\local-packages\\python310\\site-packages (from httpcore==1.*->httpx<1,>=0.23.0->openai) (0.14.0)\n",
            "Requirement already satisfied: annotated-types>=0.4.0 in c:\\users\\indir\\appdata\\local\\packages\\pythonsoftwarefoundation.python.3.10_qbz5n2kfra8p0\\localcache\\local-packages\\python310\\site-packages (from pydantic<3,>=1.9.0->openai) (0.6.0)\n",
            "Requirement already satisfied: pydantic-core==2.18.1 in c:\\users\\indir\\appdata\\local\\packages\\pythonsoftwarefoundation.python.3.10_qbz5n2kfra8p0\\localcache\\local-packages\\python310\\site-packages (from pydantic<3,>=1.9.0->openai) (2.18.1)\n",
            "Requirement already satisfied: colorama in c:\\users\\indir\\appdata\\local\\packages\\pythonsoftwarefoundation.python.3.10_qbz5n2kfra8p0\\localcache\\local-packages\\python310\\site-packages (from tqdm>4->openai) (0.4.6)\n"
          ]
        },
        {
          "name": "stderr",
          "output_type": "stream",
          "text": [
            "\n",
            "[notice] A new release of pip is available: 23.1.2 -> 24.0\n",
            "[notice] To update, run: C:\\Users\\indir\\AppData\\Local\\Microsoft\\WindowsApps\\PythonSoftwareFoundation.Python.3.10_qbz5n2kfra8p0\\python.exe -m pip install --upgrade pip\n"
          ]
        }
      ],
      "source": [
        "!pip install -qU semantic-router==0.0.32\n",
        "!pip install unifyai\n",
        "!pip install openai\n"
      ]
    },
    {
      "cell_type": "markdown",
      "metadata": {
        "id": "BixZd6Eour0w"
      },
      "source": [
        "## Initializing Routes and RouteLayer"
      ]
    },
    {
      "cell_type": "markdown",
      "metadata": {
        "id": "PxnW9qBvur0x"
      },
      "source": [
        "Dynamic routes are treated in the same way as static routes, let's begin by initializing a `RouteLayer` consisting of static routes."
      ]
    },
    {
      "cell_type": "code",
      "execution_count": 2,
      "metadata": {
        "id": "kc9Ty6Lgur0x"
      },
      "outputs": [
        {
          "name": "stderr",
          "output_type": "stream",
          "text": [
            "C:\\Users\\indir\\AppData\\Local\\Packages\\PythonSoftwareFoundation.Python.3.10_qbz5n2kfra8p0\\LocalCache\\local-packages\\Python310\\site-packages\\tqdm\\auto.py:21: TqdmWarning: IProgress not found. Please update jupyter and ipywidgets. See https://ipywidgets.readthedocs.io/en/stable/user_install.html\n",
            "  from .autonotebook import tqdm as notebook_tqdm\n"
          ]
        }
      ],
      "source": [
        "from semantic_router import Route\n",
        "\n",
        "# Define routes for Math and Coding\n",
        "math_route = Route(\n",
        "    name=\"math\",\n",
        "    utterances=[\n",
        "        \"solve for x in the equation\",\n",
        "        \"what is the integral of\",\n",
        "        \"how to calculate the derivative\",\n",
        "        \"mathematical proofs\",\n",
        "        \"how do you find the percentage of this number\"\n",
        "    ],\n",
        ")\n",
        "\n",
        "coding_route = Route(\n",
        "    name=\"coding\",\n",
        "    utterances=[\n",
        "        \"how to write a for loop in Python\",\n",
        "        \"explain the use of classes in Java\",\n",
        "        \"what is recursion in programming\",\n",
        "        \"how do i optimise this problem using hash tables\",\n",
        "        \"suggest a more efficient data structure for this problem\"\n",
        "    ],\n",
        ")\n",
        "\n",
        "# List of all routes\n",
        "routes = [math_route, coding_route]"
      ]
    },
    {
      "cell_type": "markdown",
      "metadata": {
        "id": "voWyqmffur0x"
      },
      "source": [
        "We initialize our `RouteLayer` with our `encoder` and `routes`. We can use popular encoder APIs like `CohereEncoder` and `OpenAIEncoder`, or local alternatives like `FastEmbedEncoder`."
      ]
    },
    {
      "cell_type": "code",
      "execution_count": 3,
      "metadata": {
        "colab": {
          "base_uri": "https://localhost:8080/"
        },
        "id": "BI9AiDspur0y",
        "outputId": "27329a54-3f16-44a5-ac20-13a6b26afb97"
      },
      "outputs": [
        {
          "name": "stderr",
          "output_type": "stream",
          "text": [
            "\u001b[32m2024-04-19 11:35:53 INFO semantic_router.utils.logger local\u001b[0m\n"
          ]
        }
      ],
      "source": [
        "import os\n",
        "from getpass import getpass\n",
        "from semantic_router import RouteLayer\n",
        "from semantic_router.encoders import CohereEncoder, OpenAIEncoder\n",
        "# use hugging face encoder for sentence similarity?\n",
        "# dashboard.cohere.ai\n",
        "# os.environ[\"COHERE_API_KEY\"] = os.getenv(\"COHERE_API_KEY\") or getpass(\n",
        "#     \"Enter Cohere API Key: \"\n",
        "# )\n",
        "# platform.openai.com\n",
        "os.environ[\"OPENAI_API_KEY\"] = os.getenv(\"OPENAI_API_KEY\") or getpass(\n",
        "    \"Enter OpenAI API Key: \"\n",
        ")\n",
        "\n",
        "# encoder = CohereEncoder()\n",
        "encoder = OpenAIEncoder()\n",
        "\n",
        "rl = RouteLayer(encoder=encoder, routes=routes)"
      ]
    },
    {
      "cell_type": "markdown",
      "metadata": {
        "id": "GuLCeIS5ur0y"
      },
      "source": [
        "We run the solely static routes layer:"
      ]
    },
    {
      "cell_type": "code",
      "execution_count": 4,
      "metadata": {
        "colab": {
          "base_uri": "https://localhost:8080/"
        },
        "id": "_rNREh7gur0y",
        "outputId": "f3a1dc0b-d760-4efb-b634-d3547011dcb7"
      },
      "outputs": [
        {
          "data": {
            "text/plain": [
              "RouteChoice(name='math', function_call=None, similarity_score=None)"
            ]
          },
          "execution_count": 4,
          "metadata": {},
          "output_type": "execute_result"
        }
      ],
      "source": [
        "rl(\"Solve the equation 5-x=12 for x?\")"
      ]
    },
    {
      "cell_type": "code",
      "execution_count": 13,
      "metadata": {},
      "outputs": [],
      "source": [
        "from unify import Unify\n",
        "# Environment setup for API keys\n",
        "os.environ[\"UNIFY_KEY\"] =  getpass(\"Enter Unify API Key: \")"
      ]
    },
    {
      "cell_type": "code",
      "execution_count": null,
      "metadata": {},
      "outputs": [],
      "source": [
        "import os\n",
        "from unify import ChatBot\n",
        "\n",
        "def test_unify_endpoint():\n",
        "    try:\n",
        "        # Set up the ChatBot with a known working endpoint and API key\n",
        "        agent = ChatBot(\n",
        "            api_key=os.environ[\"UNIFY_KEY\"],\n",
        "            endpoint=\"gpt-4@anyscale\"  # Adjust this if necessary\n",
        "        )\n",
        "        \n",
        "        # Example prompt to test the service\n",
        "        test_prompt = \"What is 2+2?\"\n",
        "        \n",
        "        # Making a request to the Unify service\n",
        "        response = agent.run(test_prompt)\n",
        "        print(\"Response from Unify:\", response)\n",
        "        \n",
        "    except Exception as e:\n",
        "        print(\"Failed to connect to Unify endpoint:\", str(e))\n",
        "\n",
        "if __name__ == \"__main__\":\n",
        "    test_unify_endpoint()\n"
      ]
    },
    {
      "cell_type": "code",
      "execution_count": 10,
      "metadata": {},
      "outputs": [
        {
          "name": "stdout",
          "output_type": "stream",
          "text": [
            "Response from the assistant: 5-x=12\n",
            "-x=12-5\n",
            "-x=7\n",
            "x=-7\n",
            "\n",
            "Therefore, the solution to the equation is x = -7.\n"
          ]
        }
      ],
      "source": [
        "# Test for OpenAI-> why is Unify not working?\n",
        "from openai import OpenAI\n",
        "import os\n",
        "\n",
        "# Assuming 'rl' is properly defined and initialized somewhere in your script\n",
        "query = \"Solve the equation 5-x=12 for x?\"\n",
        "route_choice = rl(query)\n",
        "\n",
        "# Initialize the OpenAI client with the API key from environment variable\n",
        "client = OpenAI(api_key=os.environ[\"OPENAI_API_KEY\"])\n",
        "\n",
        "if route_choice.name == 'math':\n",
        "    # Create a chat completion using the OpenAI API\n",
        "    chat_completion = client.chat.completions.create(\n",
        "        messages=[\n",
        "            {\n",
        "                \"role\": \"user\",\n",
        "                \"content\": query,\n",
        "            }\n",
        "        ],\n",
        "        model=\"gpt-3.5-turbo\",\n",
        "    )\n",
        "\n",
        "    # Check if there is at least one choice in the response\n",
        "    if chat_completion.choices:\n",
        "        # Correct access to the message content using object attributes\n",
        "        assistant_message = chat_completion.choices[0].message.content\n",
        "        print(\"Response from the assistant:\", assistant_message.strip())\n",
        "    else:\n",
        "        print(\"No response received.\")\n",
        "\n",
        "\n",
        "        "
      ]
    },
    {
      "cell_type": "code",
      "execution_count": 44,
      "metadata": {},
      "outputs": [],
      "source": [
        "#Unify process query\n",
        "def process_query(query):\n",
        "    route_choice = rl(query)\n",
        "    print(f\"Route chosen: {route_choice.name}\")\n",
        "\n",
        "    if route_choice.name == \"math\":\n",
        "        # Initialize Unify with the endpoint for math queries\n",
        "        unify = Unify(\n",
        "            api_key=os.environ[\"UNIFY_KEY\"],\n",
        "            endpoint=\"llama-2-13b-chat@anyscale\"  # Use the correct endpoint for math queries, other models not working\n",
        "        )\n",
        "        # Generate the response using Unify\n",
        "        response = unify.generate(user_prompt=query)\n",
        "        return response\n",
        "\n",
        "    elif route_choice.name == \"coding\":\n",
        "        # Initialize Unify with the endpoint for coding queries\n",
        "        unify = Unify(\n",
        "            api_key=os.environ[\"UNIFY_KEY\"],\n",
        "            endpoint=\"codellama-34b-instruct@anyscale\"  # Use the correct endpoint for coding queries\n",
        "        )\n",
        "        # Generate the response using Unify\n",
        "        response = unify.generate(user_prompt=query)\n",
        "        return response\n",
        "\n",
        "    else:\n",
        "        return \"This query does not fall under a supported category.\"\n",
        "\n"
      ]
    },
    {
      "cell_type": "code",
      "execution_count": 45,
      "metadata": {},
      "outputs": [
        {
          "name": "stdout",
          "output_type": "stream",
          "text": [
            "Route chosen: math\n",
            "Sure! To solve the equation 5 - x = 12, we can add x to both sides of the equation.\n",
            "\n",
            "5 - x = 12\n",
            "\n",
            "Adding x to both sides gives us:\n",
            "\n",
            "5 = 12 + x\n",
            "\n",
            "Now we can subtract 12 from both sides:\n",
            "\n",
            "5 - 12 = x\n",
            "\n",
            "This simplifies to:\n",
            "\n",
            "-7 = x\n",
            "\n",
            "So the solution to the equation 5 - x = 12 is x = -7.\n"
          ]
        }
      ],
      "source": [
        "# Process query test\n",
        "print(process_query(\"Solve the equation 5-x=12 for x?\"))"
      ]
    },
    {
      "cell_type": "code",
      "execution_count": 39,
      "metadata": {},
      "outputs": [
        {
          "name": "stdout",
          "output_type": "stream",
          "text": [
            "Route chosen: coding\n",
            "\n",
            "Here is the code:\n",
            "\n",
            "```py\n",
            "my_list = []\n",
            "for num in range(1, 11):\n",
            "    my_list.append(num)\n",
            "```\n",
            "\n",
            "This will create a list containing the numbers 1 to 10 inclusively with each number in its own cell.\n",
            "\n",
            "_Note: The range() function is used to generate a sequence of numbers. The range() function when passed only one argument (in this case, 11) will return the sequence of numbers starting from 0 and going up to, but not including, the number passed, which is 11 in this case. By passing 1 as the starting number (range(1, 11)), we get the numbers from 1 to 10._\n",
            "\n",
            "Now you have a list with numbers from 1 to 10 in it. Here are some ways to use it:\n",
            "\n",
            "```py\n",
            "print(my_list[0])  # prints the first element which is 1\n",
            "print(my_list[9])  # prints the last element which is 10\n",
            "print(my_list)  # prints the whole list [1, 2, 3, 4, 5, 6, 7, 8, 9, 10]\n",
            "```\n",
            "\n",
            "Let me know if you have further questions! 😊\n"
          ]
        }
      ],
      "source": [
        "print(process_query(\"Write a for loop in python that appends numbers from 1-10 in a list\"))"
      ]
    }
  ],
  "metadata": {
    "colab": {
      "provenance": []
    },
    "kernelspec": {
      "display_name": "decision-layer",
      "language": "python",
      "name": "python3"
    },
    "language_info": {
      "codemirror_mode": {
        "name": "ipython",
        "version": 3
      },
      "file_extension": ".py",
      "mimetype": "text/x-python",
      "name": "python",
      "nbconvert_exporter": "python",
      "pygments_lexer": "ipython3",
      "version": "3.10.11"
    }
  },
  "nbformat": 4,
  "nbformat_minor": 0
}
